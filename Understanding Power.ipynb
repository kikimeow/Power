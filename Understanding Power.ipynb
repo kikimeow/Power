{
 "cells": [
  {
   "cell_type": "markdown",
   "metadata": {},
   "source": [
    "### Power Calculations for Two-Sample Test for Proportions"
   ]
  },
  {
   "cell_type": "code",
   "execution_count": 151,
   "metadata": {},
   "outputs": [],
   "source": [
    "library(ggplot2)\n",
    "library(dplyr)"
   ]
  },
  {
   "cell_type": "markdown",
   "metadata": {},
   "source": [
    "### Compute the power of the two-sample test for proportions, or determine parameters to obtain a target power. \n",
    "power.prop.test(n = NULL, p1 = NULL, p2 = NULL, sig.level = 0.05,\n",
    "                power = NULL,\n",
    "                alternative = c(\"two.sided\", \"one.sided\"),\n",
    "                strict = FALSE, tol = .Machine$double.eps^0.25)"
   ]
  },
  {
   "cell_type": "markdown",
   "metadata": {},
   "source": [
    "n = number of observations (per group)<br>\n",
    "p1 = probability in one group <br>\n",
    "p2 = probability in other group <br>\n",
    "sig.level = significance level (Type I error probability) <br>\n",
    "power = power of test (1 minus Type II error probability) <br>\n",
    "alternative = one- or two-sided test. Can be abbreviated. <br>\n",
    "strict = use strict interpretation in two-sided case <br>\n",
    "tol = numerical tolerance used in root finding, the default providing (at least) four significant digits.<br>"
   ]
  },
  {
   "cell_type": "markdown",
   "metadata": {},
   "source": [
    "### How does the number of required observations vary for a range of minimal detectable differences?"
   ]
  },
  {
   "cell_type": "markdown",
   "metadata": {},
   "source": [
    "The smaller the change you want to detect, the more samples you need."
   ]
  },
  {
   "cell_type": "code",
   "execution_count": 333,
   "metadata": {},
   "outputs": [],
   "source": [
    "# Determine the range of MDE\n",
    "var = seq(from = 0.01, to = 0.03, length.out = 1000)"
   ]
  },
  {
   "cell_type": "code",
   "execution_count": 334,
   "metadata": {},
   "outputs": [],
   "source": [
    "# Hold the rest of the variables constant\n",
    "p1 = 0.10\n",
    "sig.level = 0.05\n",
    "power = 0.8"
   ]
  },
  {
   "cell_type": "code",
   "execution_count": 335,
   "metadata": {},
   "outputs": [],
   "source": [
    "# Create dataframe to show the data\n",
    "data <- data.frame(matrix(NA, nrow = length(var), ncol = 6))\n",
    "names(data) <- c(\"n\", \"p1\", \"p2\", \"sig.level\", \"power\", \"mde\")"
   ]
  },
  {
   "cell_type": "code",
   "execution_count": 336,
   "metadata": {},
   "outputs": [],
   "source": [
    "# fill the dataframe\n",
    "data$p1 = p1\n",
    "data$sig.level = sig.level\n",
    "data$power = power\n",
    "data$mde = var\n",
    "data$p2 = data$p1 - data$mde"
   ]
  },
  {
   "cell_type": "code",
   "execution_count": 337,
   "metadata": {},
   "outputs": [],
   "source": [
    "# calculate the number of observations needed to satisfy the power and siginificance level requirements\n",
    "data$n <- sapply(data$mde, function(x) power.prop.test(sig.level = sig.level, p1=p1, p2=p1-x, power= power )$n)"
   ]
  },
  {
   "cell_type": "code",
   "execution_count": 338,
   "metadata": {},
   "outputs": [],
   "source": [
    "# set size of chart\n",
    "options(repr.plot.width=5, repr.plot.height=3)"
   ]
  },
  {
   "cell_type": "code",
   "execution_count": 339,
   "metadata": {},
   "outputs": [
    {
     "data": {},
     "metadata": {},
     "output_type": "display_data"
    },
    {
     "data": {
      "image/png": "[encoded data removed]",
      "text/plain": [
       "plot without title"
      ]
     },
     "metadata": {},
     "output_type": "display_data"
    }
   ],
   "source": [
    "plot <- ggplot(data, aes(x= n, y= mde)) + \n",
    "    geom_line() +\n",
    "    ggtitle(\"The smaller the change you want to detect, the more samples you need\") +\n",
    "    xlab(\"# Observations\") + \n",
    "    ylab(\"Minimum Detectable Effect\") + \n",
    "    theme(\n",
    "        plot.title = element_text(size=10, color = \"royalblue4\"),\n",
    "        axis.title.x = element_text(size=8),\n",
    "        axis.title.y = element_text(size=8))\n",
    "plot"
   ]
  },
  {
   "cell_type": "code",
   "execution_count": 160,
   "metadata": {},
   "outputs": [],
   "source": [
    "rm(list=ls())"
   ]
  },
  {
   "cell_type": "markdown",
   "metadata": {},
   "source": [
    "### How does the number of required observations change for different baseline conversion rate?"
   ]
  },
  {
   "cell_type": "code",
   "execution_count": 341,
   "metadata": {},
   "outputs": [
    {
     "data": {},
     "metadata": {},
     "output_type": "display_data"
    },
    {
     "data": {
      "image/png": "[encoded data removed]",
      "text/plain": [
       "plot without title"
      ]
     },
     "metadata": {},
     "output_type": "display_data"
    }
   ],
   "source": [
    "# Determine the range of baseline probability\n",
    "var = seq(from = 0.02, to = 0.99, length.out = 1000)\n",
    "\n",
    "# Hold the rest of the variables constant\n",
    "p1 = var\n",
    "sig.level = 0.05\n",
    "power = 0.8\n",
    "mde = 0.02\n",
    "\n",
    "# Create dataframe to show the data\n",
    "data <- data.frame(matrix(NA, nrow = length(var), ncol = 6))\n",
    "names(data) <- c(\"n\", \"p1\", \"p2\", \"sig.level\", \"power\", \"mde\")\n",
    "\n",
    "# fill the dataframe\n",
    "data$p1 = p1\n",
    "data$sig.level = sig.level\n",
    "data$power = power\n",
    "data$mde = mde\n",
    "data$p2 = data$p1 - data$mde\n",
    "\n",
    "# calculate the number of observations needed to satisfy the power and siginificance level requirements\n",
    "data$n <- sapply(data$p1, function(x) power.prop.test(sig.level=sig.level, \n",
    "                                                      p1=x, \n",
    "                                                      p2=x-mde, \n",
    "                                                      power=power)$n)\n",
    "\n",
    "plot <- ggplot(data, aes(x= p1, y= n)) + \n",
    "    geom_line() +\n",
    "    ggtitle(\"The closer the baseline conversion rate to 50%, the more samples needed\") +\n",
    "    xlab(\"baseline conversion rate\") + \n",
    "    ylab(\"Num of Observations\") + \n",
    "    theme(\n",
    "        plot.title = element_text(size=10, color = \"royalblue4\"),\n",
    "        axis.title.x = element_text(size=8),\n",
    "        axis.title.y = element_text(size=8))\n",
    "plot"
   ]
  },
  {
   "cell_type": "markdown",
   "metadata": {},
   "source": [
    "### How does the number of required observations change for different significance level?"
   ]
  },
  {
   "cell_type": "code",
   "execution_count": 185,
   "metadata": {},
   "outputs": [
    {
     "data": {},
     "metadata": {},
     "output_type": "display_data"
    },
    {
     "data": {
      "image/png": "[encoded data removed]",
      "text/plain": [
       "plot without title"
      ]
     },
     "metadata": {},
     "output_type": "display_data"
    }
   ],
   "source": [
    "# Determine the range of sig.level\n",
    "var = seq(from = 0.01, to = 0.10, by = 0.01)\n",
    "\n",
    "# Hold the rest of the variables constant\n",
    "p1 = 0.10\n",
    "sig.level = var\n",
    "power = 0.8\n",
    "mde = 0.02\n",
    "\n",
    "# Create dataframe to show the data\n",
    "data <- data.frame(matrix(NA, nrow = length(var), ncol = 6))\n",
    "names(data) <- c(\"n\", \"p1\", \"p2\", \"sig.level\", \"power\", \"mde\")\n",
    "\n",
    "# fill the dataframe\n",
    "data$p1 = p1\n",
    "data$sig.level = var\n",
    "data$power = power\n",
    "data$mde = mde\n",
    "data$p2 = data$p1 - data$mde\n",
    "\n",
    "# calculate the number of observations needed to satisfy the power and siginificance level requirements\n",
    "data$n <- sapply(data$sig.level, function(x) power.prop.test(sig.level= x, \n",
    "                                                      p1= p1, \n",
    "                                                      p2= p1-mde, \n",
    "                                                      power= power)$n)\n",
    "\n",
    "plot <- ggplot(data, aes(x= sig.level, y= n)) + \n",
    "    geom_line() +\n",
    "    ggtitle(\"More stringent significance level requires more samples\") +\n",
    "    xlab(\"significance level\") + \n",
    "    ylab(\"Num of Observations\") + \n",
    "    theme(\n",
    "        plot.title = element_text(size=10, color = \"royalblue4\"),\n",
    "        axis.title.x = element_text(size=8),\n",
    "        axis.title.y = element_text(size=8))\n",
    "plot"
   ]
  },
  {
   "cell_type": "markdown",
   "metadata": {},
   "source": [
    "### How does the number of required observations change for different required power?"
   ]
  },
  {
   "cell_type": "code",
   "execution_count": 214,
   "metadata": {},
   "outputs": [
    {
     "data": {},
     "metadata": {},
     "output_type": "display_data"
    },
    {
     "data": {
      "image/png": "[encoded data removed]",
      "text/plain": [
       "plot without title"
      ]
     },
     "metadata": {},
     "output_type": "display_data"
    }
   ],
   "source": [
    "# Determine the range of Power\n",
    "var = seq(from = 0.05, to = 0.99, by = 0.01)\n",
    "\n",
    "# Hold the rest of the variables constant\n",
    "p1 = 0.10\n",
    "sig.level = 0.05\n",
    "power = var\n",
    "mde = 0.02\n",
    "\n",
    "# Create dataframe to show the data\n",
    "data <- data.frame(matrix(NA, nrow = length(var), ncol = 6))\n",
    "names(data) <- c(\"n\", \"p1\", \"p2\", \"sig.level\", \"power\", \"mde\")\n",
    "\n",
    "# fill the dataframe\n",
    "data$p1 = p1\n",
    "data$sig.level = sig.level\n",
    "data$power = var\n",
    "data$mde = mde\n",
    "data$p2 = data$p1 - data$mde\n",
    "\n",
    "# calculate the number of observations needed to satisfy the power and siginificance level requirements\n",
    "data$n <- sapply(data$power, function(x) power.prop.test(sig.level= sig.level, \n",
    "                                                         p1= p1, \n",
    "                                                         p2= p1-mde, \n",
    "                                                         power= x)$n)\n",
    "\n",
    "plot <- ggplot(data, aes(x= power, y= n)) + \n",
    "    geom_line() +\n",
    "    ggtitle(\"Higher power requires more samples\") +\n",
    "    xlab(\"Power\") + \n",
    "    ylab(\"Num of Observations\") + \n",
    "    theme(\n",
    "        plot.title = element_text(size=10, color = \"royalblue4\"),\n",
    "        axis.title.x = element_text(size=8),\n",
    "        axis.title.y = element_text(size=8))\n",
    "plot"
   ]
  },
  {
   "cell_type": "markdown",
   "metadata": {},
   "source": [
    "### Multiple Facets"
   ]
  },
  {
   "cell_type": "code",
   "execution_count": 225,
   "metadata": {},
   "outputs": [],
   "source": [
    "myFunc <- function(p1, p2, sig.level, power){\n",
    "    power.prop.test(n = NULL,\n",
    "                    p1= p1, \n",
    "                    p2= p2, \n",
    "                    sig.level= sig.level, \n",
    "                    power= power,\n",
    "                   )$n}\n",
    "    "
   ]
  },
  {
   "cell_type": "code",
   "execution_count": 309,
   "metadata": {},
   "outputs": [],
   "source": [
    "mde = seq(from = 0.01, to = 0.03, length.out = 3)\n",
    "p1 = seq(from = 0.10, to = 0.70, length.out = 7)\n",
    "sig.level = seq(from = 0.01, to = 0.05, length.out = 5)\n",
    "power = seq(from = 0.50, to = 0.90, length.out = 5)"
   ]
  },
  {
   "cell_type": "code",
   "execution_count": 310,
   "metadata": {},
   "outputs": [],
   "source": [
    "df = expand.grid(p1 = p1, mde = mde, sig.level = sig.level, power = power)"
   ]
  },
  {
   "cell_type": "code",
   "execution_count": 311,
   "metadata": {},
   "outputs": [],
   "source": [
    "df$p2 = df$p1 - df$mde"
   ]
  },
  {
   "cell_type": "code",
   "execution_count": 312,
   "metadata": {},
   "outputs": [],
   "source": [
    "df$n = mapply(myFunc, df$p1, df$p2, df$sig.level, df$power)"
   ]
  },
  {
   "cell_type": "markdown",
   "metadata": {},
   "source": [
    "### How does the # of samples change given changes in the baseline probability in the Control (group1) for different minimumal detectable effects."
   ]
  },
  {
   "cell_type": "code",
   "execution_count": 313,
   "metadata": {},
   "outputs": [
    {
     "data": {},
     "metadata": {},
     "output_type": "display_data"
    },
    {
     "data": {
      "image/png": "[encoded data removed]",
      "text/plain": [
       "plot without title"
      ]
     },
     "metadata": {},
     "output_type": "display_data"
    }
   ],
   "source": [
    "data <- df %>%\n",
    "filter(sig.level == 0.05, power == 0.8)\n",
    "\n",
    "plot <- ggplot(data, aes(x=p1, y=n/max(n), colour = as.factor(mde))) + geom_line() \n",
    "plot"
   ]
  },
  {
   "cell_type": "code",
   "execution_count": 350,
   "metadata": {},
   "outputs": [],
   "source": [
    "# set size of chart\n",
    "options(repr.plot.width=7, repr.plot.height=3)\n",
    "\n",
    "# http://www.cookbook-r.com/Graphs/Facets_(ggplot2)/"
   ]
  },
  {
   "cell_type": "markdown",
   "metadata": {},
   "source": [
    "### How does the # of samples change given different Power, Significant level, and Minimual Detectable Effect"
   ]
  },
  {
   "cell_type": "code",
   "execution_count": 351,
   "metadata": {},
   "outputs": [
    {
     "data": {},
     "metadata": {},
     "output_type": "display_data"
    },
    {
     "data": {
      "image/png": "[encoded data removed]",
      "text/plain": [
       "plot without title"
      ]
     },
     "metadata": {},
     "output_type": "display_data"
    }
   ],
   "source": [
    "data <- df %>%\n",
    "filter(p1 == min(p1))\n",
    "\n",
    "plot <- ggplot(data, aes(x = power, y=n/max(n), colour = as.factor(mde))) + geom_line() + facet_grid( . ~ sig.level)\n",
    "plot"
   ]
  },
  {
   "cell_type": "markdown",
   "metadata": {},
   "source": [
    "### How does the # sample change with respect to changes in significant level and power"
   ]
  },
  {
   "cell_type": "code",
   "execution_count": 352,
   "metadata": {},
   "outputs": [
    {
     "data": {},
     "metadata": {},
     "output_type": "display_data"
    },
    {
     "data": {
      "image/png": "[encoded data removed]",
      "text/plain": [
       "plot without title"
      ]
     },
     "metadata": {},
     "output_type": "display_data"
    }
   ],
   "source": [
    "data <- df %>%\n",
    "filter(p1 == min(p1), mde == 0.01)\n",
    "\n",
    "plot <- ggplot(data, aes(x = power, y=n/max(n), colour = as.factor(sig.level))) + geom_line()\n",
    "plot"
   ]
  },
  {
   "cell_type": "code",
   "execution_count": 353,
   "metadata": {},
   "outputs": [
    {
     "data": {},
     "metadata": {},
     "output_type": "display_data"
    },
    {
     "data": {
      "image/png": "[encoded data removed]",
      "text/plain": [
       "plot without title"
      ]
     },
     "metadata": {},
     "output_type": "display_data"
    }
   ],
   "source": [
    "data <- df %>%\n",
    "filter(p1 == min(p1), mde == 0.01)\n",
    "\n",
    "plot <- ggplot(data, aes(x = 1-sig.level, y=n/max(n), colour = as.factor(power))) + geom_line()\n",
    "plot"
   ]
  },
  {
   "cell_type": "code",
   "execution_count": null,
   "metadata": {},
   "outputs": [],
   "source": [
    "df$p1, df$p2, df$sig.level, df$power)"
   ]
  }
 ],
 "metadata": {
  "kernelspec": {
   "display_name": "R",
   "language": "R",
   "name": "ir"
  },
  "language_info": {
   "codemirror_mode": "r",
   "file_extension": ".r",
   "mimetype": "text/x-r-source",
   "name": "R",
   "pygments_lexer": "r",
   "version": "3.4.2"
  }
 },
 "nbformat": 4,
 "nbformat_minor": 2
}
